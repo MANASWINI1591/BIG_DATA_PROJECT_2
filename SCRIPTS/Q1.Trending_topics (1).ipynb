{
 "cells": [
  {
   "cell_type": "code",
   "execution_count": 40,
   "metadata": {},
   "outputs": [
    {
     "data": {
      "text/html": [
       "\n",
       "            <div>\n",
       "                <p><b>SparkSession - hive</b></p>\n",
       "                \n",
       "        <div>\n",
       "            <p><b>SparkContext</b></p>\n",
       "\n",
       "            <p><a href=\"http://DESKTOP-E0ERQBN:4040\">Spark UI</a></p>\n",
       "\n",
       "            <dl>\n",
       "              <dt>Version</dt>\n",
       "                <dd><code>v3.1.2</code></dd>\n",
       "              <dt>Master</dt>\n",
       "                <dd><code>local[2]</code></dd>\n",
       "              <dt>AppName</dt>\n",
       "                <dd><code>PySparkShell</code></dd>\n",
       "            </dl>\n",
       "        </div>\n",
       "        \n",
       "            </div>\n",
       "        "
      ],
      "text/plain": [
       "<pyspark.sql.session.SparkSession at 0x2588d8ebfa0>"
      ]
     },
     "execution_count": 40,
     "metadata": {},
     "output_type": "execute_result"
    }
   ],
   "source": [
    "import pyspark\n",
    "from pyspark import SparkContext\n",
    "sc = SparkContext.getOrCreate();\n",
    "import findspark\n",
    "findspark.init()\n",
    "from pyspark.sql import SparkSession\n",
    "spark = SparkSession.builder.master(\"local[*]\").getOrCreate()\n",
    "spark.conf.set(\"spark.sql.repl.eagerEval.enabled\", True) # Property used to format output tables better\n",
    "spark\n"
   ]
  },
  {
   "cell_type": "code",
   "execution_count": 39,
   "metadata": {},
   "outputs": [],
   "source": [
    "#sc.stop()"
   ]
  },
  {
   "cell_type": "code",
   "execution_count": 41,
   "metadata": {},
   "outputs": [],
   "source": [
    "import tweepy as tw\n",
    "import os\n",
    "import json\n",
    "import sys"
   ]
  },
  {
   "cell_type": "code",
   "execution_count": 42,
   "metadata": {},
   "outputs": [],
   "source": [
    "# API Keys and Tokens\n",
    "consumer_key=\"3fxfHchULcgRRtaPVWSRMRAmW\"\n",
    "consumer_secret=\"UPItL5fM67ZkGKfVmLIpngBb3fu7VBDliZCc3hPmZsXQRwypPp\"\n",
    "access_token=\"805480776074756097-2JX51bLZiSWol9yQFxIsYOLsI22BU3t\"\n",
    "access_secret=\"uhMMZ5uVfM26rwXPUNLx2xk9UmUDVeZPOXWHacjfori0P\"\n"
   ]
  },
  {
   "cell_type": "code",
   "execution_count": 30,
   "metadata": {},
   "outputs": [],
   "source": [
    "# Authorization and Authentication\n",
    "auth = tw.OAuthHandler(consumer_key, consumer_secret)\n",
    "auth.set_access_token(access_token, access_secret)\n",
    "api = tw.API(auth)"
   ]
  },
  {
   "cell_type": "code",
   "execution_count": 31,
   "metadata": {},
   "outputs": [],
   "source": [
    "# WOEID of delhi, india\n",
    "woeid = 20070458"
   ]
  },
  {
   "cell_type": "code",
   "execution_count": 32,
   "metadata": {},
   "outputs": [],
   "source": [
    "# fetching the trends\n",
    "Trends = api.trends_place(id = woeid)"
   ]
  },
  {
   "cell_type": "code",
   "execution_count": 33,
   "metadata": {},
   "outputs": [
    {
     "name": "stdout",
     "output_type": "stream",
     "text": [
      "{'trends': [{'name': '#FreedomFromDrugs', 'url': 'http://twitter.com/search?q=%23FreedomFromDrugs', 'promoted_content': None, 'query': '%23FreedomFromDrugs', 'tweet_volume': 433231}, {'name': 'Afghanistan', 'url': 'http://twitter.com/search?q=Afghanistan', 'promoted_content': None, 'query': 'Afghanistan', 'tweet_volume': 1514867}, {'name': '#5YearsWithAGUSTD', 'url': 'http://twitter.com/search?q=%235YearsWithAGUSTD', 'promoted_content': None, 'query': '%235YearsWithAGUSTD', 'tweet_volume': 226228}, {'name': 'Sant Rampal Ji Maharaj', 'url': 'http://twitter.com/search?q=%22Sant+Rampal+Ji+Maharaj%22', 'promoted_content': None, 'query': '%22Sant+Rampal+Ji+Maharaj%22', 'tweet_volume': 387388}, {'name': 'Pujara', 'url': 'http://twitter.com/search?q=Pujara', 'promoted_content': None, 'query': 'Pujara', 'tweet_volume': 19543}, {'name': '#Kabul', 'url': 'http://twitter.com/search?q=%23Kabul', 'promoted_content': None, 'query': '%23Kabul', 'tweet_volume': 257083}, {'name': '#AmanKaAashiyaanByPBS', 'url': 'http://twitter.com/search?q=%23AmanKaAashiyaanByPBS', 'promoted_content': None, 'query': '%23AmanKaAashiyaanByPBS', 'tweet_volume': None}, {'name': '9YEARS OF ETT HYSTERIA', 'url': 'http://twitter.com/search?q=%229YEARS+OF+ETT+HYSTERIA%22', 'promoted_content': None, 'query': '%229YEARS+OF+ETT+HYSTERIA%22', 'tweet_volume': 44262}, {'name': '#TOTMCI', 'url': 'http://twitter.com/search?q=%23TOTMCI', 'promoted_content': None, 'query': '%23TOTMCI', 'tweet_volume': 18218}, {'name': 'JEON JUNGKOOK', 'url': 'http://twitter.com/search?q=%22JEON+JUNGKOOK%22', 'promoted_content': None, 'query': '%22JEON+JUNGKOOK%22', 'tweet_volume': 60439}, {'name': 'Bharat Ki Shaan Sushant', 'url': 'http://twitter.com/search?q=%22Bharat+Ki+Shaan+Sushant%22', 'promoted_content': None, 'query': '%22Bharat+Ki+Shaan+Sushant%22', 'tweet_volume': 23778}, {'name': 'D-1 TO FIGHTorESCAPE', 'url': 'http://twitter.com/search?q=%22D-1+TO+FIGHTorESCAPE%22', 'promoted_content': None, 'query': '%22D-1+TO+FIGHTorESCAPE%22', 'tweet_volume': 142101}, {'name': 'Sharia', 'url': 'http://twitter.com/search?q=Sharia', 'promoted_content': None, 'query': 'Sharia', 'tweet_volume': 21681}, {'name': 'America', 'url': 'http://twitter.com/search?q=America', 'promoted_content': None, 'query': 'America', 'tweet_volume': 442088}, {'name': 'Biden', 'url': 'http://twitter.com/search?q=Biden', 'promoted_content': None, 'query': 'Biden', 'tweet_volume': 969772}, {'name': 'Tajikistan', 'url': 'http://twitter.com/search?q=Tajikistan', 'promoted_content': None, 'query': 'Tajikistan', 'tweet_volume': 20058}, {'name': 'Mendy', 'url': 'http://twitter.com/search?q=Mendy', 'promoted_content': None, 'query': 'Mendy', 'tweet_volume': 17021}, {'name': 'INSTAGRAM KING TAEHYUNG', 'url': 'http://twitter.com/search?q=%22INSTAGRAM+KING+TAEHYUNG%22', 'promoted_content': None, 'query': '%22INSTAGRAM+KING+TAEHYUNG%22', 'tweet_volume': 59962}, {'name': 'BIRDIES LOVE YOU SHAHEER', 'url': 'http://twitter.com/search?q=%22BIRDIES+LOVE+YOU+SHAHEER%22', 'promoted_content': None, 'query': '%22BIRDIES+LOVE+YOU+SHAHEER%22', 'tweet_volume': None}, {'name': 'Islamic', 'url': 'http://twitter.com/search?q=Islamic', 'promoted_content': None, 'query': 'Islamic', 'tweet_volume': 66285}, {'name': 'Israel', 'url': 'http://twitter.com/search?q=Israel', 'promoted_content': None, 'query': 'Israel', 'tweet_volume': 102185}, {'name': 'राष्ट्रपति अशरफ', 'url': 'http://twitter.com/search?q=%22%E0%A4%B0%E0%A4%BE%E0%A4%B7%E0%A5%8D%E0%A4%9F%E0%A5%8D%E0%A4%B0%E0%A4%AA%E0%A4%A4%E0%A4%BF+%E0%A4%85%E0%A4%B6%E0%A4%B0%E0%A4%AB%22', 'promoted_content': None, 'query': '%22%E0%A4%B0%E0%A4%BE%E0%A4%B7%E0%A5%8D%E0%A4%9F%E0%A5%8D%E0%A4%B0%E0%A4%AA%E0%A4%A4%E0%A4%BF+%E0%A4%85%E0%A4%B6%E0%A4%B0%E0%A4%AB%22', 'tweet_volume': None}, {'name': 'Jinks', 'url': 'http://twitter.com/search?q=Jinks', 'promoted_content': None, 'query': 'Jinks', 'tweet_volume': None}, {'name': 'Kohli', 'url': 'http://twitter.com/search?q=Kohli', 'promoted_content': None, 'query': 'Kohli', 'tweet_volume': 36007}, {'name': 'Sterling', 'url': 'http://twitter.com/search?q=Sterling', 'promoted_content': None, 'query': 'Sterling', 'tweet_volume': 19167}, {'name': 'London', 'url': 'http://twitter.com/search?q=London', 'promoted_content': None, 'query': 'London', 'tweet_volume': 115198}, {'name': 'शहनाज़ गिल', 'url': 'http://twitter.com/search?q=%22%E0%A4%B6%E0%A4%B9%E0%A4%A8%E0%A4%BE%E0%A4%9C%E0%A4%BC+%E0%A4%97%E0%A4%BF%E0%A4%B2%22', 'promoted_content': None, 'query': '%22%E0%A4%B6%E0%A4%B9%E0%A4%A8%E0%A4%BE%E0%A4%9C%E0%A4%BC+%E0%A4%97%E0%A4%BF%E0%A4%B2%22', 'tweet_volume': 44712}, {'name': 'Ek Tha Tiger', 'url': 'http://twitter.com/search?q=%22Ek+Tha+Tiger%22', 'promoted_content': None, 'query': '%22Ek+Tha+Tiger%22', 'tweet_volume': None}, {'name': 'Russia', 'url': 'http://twitter.com/search?q=Russia', 'promoted_content': None, 'query': 'Russia', 'tweet_volume': 78903}, {'name': 'Drug Free India', 'url': 'http://twitter.com/search?q=%22Drug+Free+India%22', 'promoted_content': None, 'query': '%22Drug+Free+India%22', 'tweet_volume': None}, {'name': 'ARMY ALERT OnTFMA', 'url': 'http://twitter.com/search?q=%22ARMY+ALERT+OnTFMA%22', 'promoted_content': None, 'query': '%22ARMY+ALERT+OnTFMA%22', 'tweet_volume': 142575}, {'name': 'Gerd Muller', 'url': 'http://twitter.com/search?q=%22Gerd+Muller%22', 'promoted_content': None, 'query': '%22Gerd+Muller%22', 'tweet_volume': 46596}, {'name': 'shamita', 'url': 'http://twitter.com/search?q=shamita', 'promoted_content': None, 'query': 'shamita', 'tweet_volume': None}, {'name': 'Mahrez', 'url': 'http://twitter.com/search?q=Mahrez', 'promoted_content': None, 'query': 'Mahrez', 'tweet_volume': 15082}, {'name': 'Air India', 'url': 'http://twitter.com/search?q=%22Air+India%22', 'promoted_content': None, 'query': '%22Air+India%22', 'tweet_volume': None}, {'name': 'Sant Garibdas', 'url': 'http://twitter.com/search?q=%22Sant+Garibdas%22', 'promoted_content': None, 'query': '%22Sant+Garibdas%22', 'tweet_volume': None}, {'name': 'OTT KI SHAAN ZEESHAN', 'url': 'http://twitter.com/search?q=%22OTT+KI+SHAAN+ZEESHAN%22', 'promoted_content': None, 'query': '%22OTT+KI+SHAAN+ZEESHAN%22', 'tweet_volume': 20237}, {'name': 'Jinx', 'url': 'http://twitter.com/search?q=Jinx', 'promoted_content': None, 'query': 'Jinx', 'tweet_volume': None}, {'name': 'Iran', 'url': 'http://twitter.com/search?q=Iran', 'promoted_content': None, 'query': 'Iran', 'tweet_volume': 119508}, {'name': 'The US', 'url': 'http://twitter.com/search?q=%22The+US%22', 'promoted_content': None, 'query': '%22The+US%22', 'tweet_volume': 766763}, {'name': 'NATO', 'url': 'http://twitter.com/search?q=NATO', 'promoted_content': None, 'query': 'NATO', 'tweet_volume': 66450}, {'name': 'Randa', 'url': 'http://twitter.com/search?q=Randa', 'promoted_content': None, 'query': 'Randa', 'tweet_volume': None}, {'name': '#INDvENG', 'url': 'http://twitter.com/search?q=%23INDvENG', 'promoted_content': None, 'query': '%23INDvENG', 'tweet_volume': 20762}, {'name': '#CelebrationWithWelfare', 'url': 'http://twitter.com/search?q=%23CelebrationWithWelfare', 'promoted_content': None, 'query': '%23CelebrationWithWelfare', 'tweet_volume': None}, {'name': '#MegaTreePlantationDrive', 'url': 'http://twitter.com/search?q=%23MegaTreePlantationDrive', 'promoted_content': None, 'query': '%23MegaTreePlantationDrive', 'tweet_volume': None}, {'name': '#IndianIdolGreatestFinaleEver', 'url': 'http://twitter.com/search?q=%23IndianIdolGreatestFinaleEver', 'promoted_content': None, 'query': '%23IndianIdolGreatestFinaleEver', 'tweet_volume': None}, {'name': '#விஜய்_ಮಾಸ್ಟರ್_TRPRaid', 'url': 'http://twitter.com/search?q=%23%E0%AE%B5%E0%AE%BF%E0%AE%9C%E0%AE%AF%E0%AF%8D_%E0%B2%AE%E0%B2%BE%E0%B2%B8%E0%B3%8D%E0%B2%9F%E0%B2%B0%E0%B3%8D_TRPRaid', 'promoted_content': None, 'query': '%23%E0%AE%B5%E0%AE%BF%E0%AE%9C%E0%AE%AF%E0%AF%8D_%E0%B2%AE%E0%B2%BE%E0%B2%B8%E0%B3%8D%E0%B2%9F%E0%B2%B0%E0%B3%8D_TRPRaid', 'tweet_volume': 194233}, {'name': '#NaveenCares', 'url': 'http://twitter.com/search?q=%23NaveenCares', 'promoted_content': None, 'query': '%23NaveenCares', 'tweet_volume': None}, {'name': '#LoserLover_Teaser2', 'url': 'http://twitter.com/search?q=%23LoserLover_Teaser2', 'promoted_content': None, 'query': '%23LoserLover_Teaser2', 'tweet_volume': 151092}, {'name': '#BossJodiSidNaaz', 'url': 'http://twitter.com/search?q=%23BossJodiSidNaaz', 'promoted_content': None, 'query': '%23BossJodiSidNaaz', 'tweet_volume': 593310}], 'as_of': '2021-08-15T16:32:11Z', 'created_at': '2021-08-12T07:01:27Z', 'locations': [{'name': 'Delhi', 'woeid': 20070458}]}\n"
     ]
    }
   ],
   "source": [
    "for value in Trends:\n",
    "     print(value)"
   ]
  },
  {
   "cell_type": "code",
   "execution_count": null,
   "metadata": {},
   "outputs": [],
   "source": []
  },
  {
   "cell_type": "code",
   "execution_count": 34,
   "metadata": {},
   "outputs": [],
   "source": [
    "#sc.stop()"
   ]
  },
  {
   "cell_type": "code",
   "execution_count": 35,
   "metadata": {},
   "outputs": [],
   "source": [
    "for value in Trends:\n",
    "    rdd = spark.sparkContext.parallelize(value['trends'])\n",
    "Trend_with_hashtag=rdd.toDF(sampleRatio=0.01)"
   ]
  },
  {
   "cell_type": "code",
   "execution_count": 36,
   "metadata": {},
   "outputs": [
    {
     "name": "stdout",
     "output_type": "stream",
     "text": [
      "+--------------------+------------+\n",
      "|                name|tweet_volume|\n",
      "+--------------------+------------+\n",
      "|   #FreedomFromDrugs|      433231|\n",
      "|         Afghanistan|     1514867|\n",
      "|   #5YearsWithAGUSTD|      226228|\n",
      "|Sant Rampal Ji Ma...|      387388|\n",
      "|              Pujara|       19543|\n",
      "|              #Kabul|      257083|\n",
      "|#AmanKaAashiyaanB...|        null|\n",
      "|9YEARS OF ETT HYS...|       44262|\n",
      "|             #TOTMCI|       18218|\n",
      "|       JEON JUNGKOOK|       60439|\n",
      "|Bharat Ki Shaan S...|       23778|\n",
      "|D-1 TO FIGHTorESCAPE|      142101|\n",
      "|              Sharia|       21681|\n",
      "|             America|      442088|\n",
      "|               Biden|      969772|\n",
      "|          Tajikistan|       20058|\n",
      "|               Mendy|       17021|\n",
      "|INSTAGRAM KING TA...|       59962|\n",
      "|BIRDIES LOVE YOU ...|        null|\n",
      "|             Islamic|       66285|\n",
      "|              Israel|      102185|\n",
      "|     राष्ट्रपति अशरफ|        null|\n",
      "|               Jinks|        null|\n",
      "|               Kohli|       36007|\n",
      "|            Sterling|       19167|\n",
      "|              London|      115198|\n",
      "|          शहनाज़ गिल|       44712|\n",
      "|        Ek Tha Tiger|        null|\n",
      "|              Russia|       78903|\n",
      "|     Drug Free India|        null|\n",
      "|   ARMY ALERT OnTFMA|      142575|\n",
      "|         Gerd Muller|       46596|\n",
      "|             shamita|        null|\n",
      "|              Mahrez|       15082|\n",
      "|           Air India|        null|\n",
      "|       Sant Garibdas|        null|\n",
      "|OTT KI SHAAN ZEESHAN|       20237|\n",
      "|                Jinx|        null|\n",
      "|                Iran|      119508|\n",
      "|              The US|      766763|\n",
      "|                NATO|       66450|\n",
      "|               Randa|        null|\n",
      "|            #INDvENG|       20762|\n",
      "|#CelebrationWithW...|        null|\n",
      "|#MegaTreePlantati...|        null|\n",
      "|#IndianIdolGreate...|        null|\n",
      "|#விஜய்_ಮಾಸ್ಟರ್_TR...|      194233|\n",
      "|        #NaveenCares|        null|\n",
      "| #LoserLover_Teaser2|      151092|\n",
      "|    #BossJodiSidNaaz|      593310|\n",
      "+--------------------+------------+\n",
      "\n"
     ]
    }
   ],
   "source": [
    "Trend_with_hashtag.createOrReplaceTempView(\"Trend\")\n",
    "TD=spark.sql(\"select name, tweet_volume from Trend\")\n",
    "TD.show(50)"
   ]
  },
  {
   "cell_type": "code",
   "execution_count": 37,
   "metadata": {},
   "outputs": [
    {
     "name": "stdout",
     "output_type": "stream",
     "text": [
      "{'trends': [{'name': 'Afghanistan', 'url': 'http://twitter.com/search?q=Afghanistan', 'promoted_content': None, 'query': 'Afghanistan', 'tweet_volume': 1461440}, {'name': 'Sant Rampal Ji Maharaj', 'url': 'http://twitter.com/search?q=%22Sant+Rampal+Ji+Maharaj%22', 'promoted_content': None, 'query': '%22Sant+Rampal+Ji+Maharaj%22', 'tweet_volume': 388612}, {'name': 'Pujara', 'url': 'http://twitter.com/search?q=Pujara', 'promoted_content': None, 'query': 'Pujara', 'tweet_volume': 19609}, {'name': '9YEARS OF ETT HYSTERIA', 'url': 'http://twitter.com/search?q=%229YEARS+OF+ETT+HYSTERIA%22', 'promoted_content': None, 'query': '%229YEARS+OF+ETT+HYSTERIA%22', 'tweet_volume': 44491}, {'name': 'JEON JUNGKOOK', 'url': 'http://twitter.com/search?q=%22JEON+JUNGKOOK%22', 'promoted_content': None, 'query': '%22JEON+JUNGKOOK%22', 'tweet_volume': 60662}, {'name': 'Bharat Ki Shaan Sushant', 'url': 'http://twitter.com/search?q=%22Bharat+Ki+Shaan+Sushant%22', 'promoted_content': None, 'query': '%22Bharat+Ki+Shaan+Sushant%22', 'tweet_volume': 24094}, {'name': 'D-1 TO FIGHTorESCAPE', 'url': 'http://twitter.com/search?q=%22D-1+TO+FIGHTorESCAPE%22', 'promoted_content': None, 'query': '%22D-1+TO+FIGHTorESCAPE%22', 'tweet_volume': 142236}, {'name': 'Sharia', 'url': 'http://twitter.com/search?q=Sharia', 'promoted_content': None, 'query': 'Sharia', 'tweet_volume': 21782}, {'name': 'America', 'url': 'http://twitter.com/search?q=America', 'promoted_content': None, 'query': 'America', 'tweet_volume': 443214}, {'name': 'Biden', 'url': 'http://twitter.com/search?q=Biden', 'promoted_content': None, 'query': 'Biden', 'tweet_volume': 973097}, {'name': 'Tajikistan', 'url': 'http://twitter.com/search?q=Tajikistan', 'promoted_content': None, 'query': 'Tajikistan', 'tweet_volume': 20143}, {'name': 'Mendy', 'url': 'http://twitter.com/search?q=Mendy', 'promoted_content': None, 'query': 'Mendy', 'tweet_volume': 17170}, {'name': 'INSTAGRAM KING TAEHYUNG', 'url': 'http://twitter.com/search?q=%22INSTAGRAM+KING+TAEHYUNG%22', 'promoted_content': None, 'query': '%22INSTAGRAM+KING+TAEHYUNG%22', 'tweet_volume': 60530}, {'name': 'Israel', 'url': 'http://twitter.com/search?q=Israel', 'promoted_content': None, 'query': 'Israel', 'tweet_volume': 102578}, {'name': 'BIRDIES LOVE YOU SHAHEER', 'url': 'http://twitter.com/search?q=%22BIRDIES+LOVE+YOU+SHAHEER%22', 'promoted_content': None, 'query': '%22BIRDIES+LOVE+YOU+SHAHEER%22', 'tweet_volume': None}, {'name': 'Islamic', 'url': 'http://twitter.com/search?q=Islamic', 'promoted_content': None, 'query': 'Islamic', 'tweet_volume': 66483}, {'name': 'Sterling', 'url': 'http://twitter.com/search?q=Sterling', 'promoted_content': None, 'query': 'Sterling', 'tweet_volume': 19222}, {'name': 'राष्ट्रपति अशरफ', 'url': 'http://twitter.com/search?q=%22%E0%A4%B0%E0%A4%BE%E0%A4%B7%E0%A5%8D%E0%A4%9F%E0%A5%8D%E0%A4%B0%E0%A4%AA%E0%A4%A4%E0%A4%BF+%E0%A4%85%E0%A4%B6%E0%A4%B0%E0%A4%AB%22', 'promoted_content': None, 'query': '%22%E0%A4%B0%E0%A4%BE%E0%A4%B7%E0%A5%8D%E0%A4%9F%E0%A5%8D%E0%A4%B0%E0%A4%AA%E0%A4%A4%E0%A4%BF+%E0%A4%85%E0%A4%B6%E0%A4%B0%E0%A4%AB%22', 'tweet_volume': None}, {'name': 'Pant', 'url': 'http://twitter.com/search?q=Pant', 'promoted_content': None, 'query': 'Pant', 'tweet_volume': None}, {'name': 'Jinks', 'url': 'http://twitter.com/search?q=Jinks', 'promoted_content': None, 'query': 'Jinks', 'tweet_volume': None}, {'name': 'London', 'url': 'http://twitter.com/search?q=London', 'promoted_content': None, 'query': 'London', 'tweet_volume': 115599}, {'name': 'Kohli', 'url': 'http://twitter.com/search?q=Kohli', 'promoted_content': None, 'query': 'Kohli', 'tweet_volume': 36054}, {'name': 'शहनाज़ गिल', 'url': 'http://twitter.com/search?q=%22%E0%A4%B6%E0%A4%B9%E0%A4%A8%E0%A4%BE%E0%A4%9C%E0%A4%BC+%E0%A4%97%E0%A4%BF%E0%A4%B2%22', 'promoted_content': None, 'query': '%22%E0%A4%B6%E0%A4%B9%E0%A4%A8%E0%A4%BE%E0%A4%9C%E0%A4%BC+%E0%A4%97%E0%A4%BF%E0%A4%B2%22', 'tweet_volume': 44758}, {'name': 'Russia', 'url': 'http://twitter.com/search?q=Russia', 'promoted_content': None, 'query': 'Russia', 'tweet_volume': 79089}, {'name': 'Ek Tha Tiger', 'url': 'http://twitter.com/search?q=%22Ek+Tha+Tiger%22', 'promoted_content': None, 'query': '%22Ek+Tha+Tiger%22', 'tweet_volume': None}, {'name': '1 YEAR OF APNI MAATI', 'url': 'http://twitter.com/search?q=%221+YEAR+OF+APNI+MAATI%22', 'promoted_content': None, 'query': '%221+YEAR+OF+APNI+MAATI%22', 'tweet_volume': None}, {'name': 'Drug Free India', 'url': 'http://twitter.com/search?q=%22Drug+Free+India%22', 'promoted_content': None, 'query': '%22Drug+Free+India%22', 'tweet_volume': 10020}, {'name': 'ARMY ALERT OnTFMA', 'url': 'http://twitter.com/search?q=%22ARMY+ALERT+OnTFMA%22', 'promoted_content': None, 'query': '%22ARMY+ALERT+OnTFMA%22', 'tweet_volume': 142866}, {'name': 'Gerd Muller', 'url': 'http://twitter.com/search?q=%22Gerd+Muller%22', 'promoted_content': None, 'query': '%22Gerd+Muller%22', 'tweet_volume': 46782}, {'name': 'Air India', 'url': 'http://twitter.com/search?q=%22Air+India%22', 'promoted_content': None, 'query': '%22Air+India%22', 'tweet_volume': None}, {'name': 'Shamita', 'url': 'http://twitter.com/search?q=Shamita', 'promoted_content': None, 'query': 'Shamita', 'tweet_volume': None}, {'name': 'Mahrez', 'url': 'http://twitter.com/search?q=Mahrez', 'promoted_content': None, 'query': 'Mahrez', 'tweet_volume': 15175}, {'name': 'Sant Garibdas', 'url': 'http://twitter.com/search?q=%22Sant+Garibdas%22', 'promoted_content': None, 'query': '%22Sant+Garibdas%22', 'tweet_volume': None}, {'name': 'OTT KI SHAAN ZEESHAN', 'url': 'http://twitter.com/search?q=%22OTT+KI+SHAAN+ZEESHAN%22', 'promoted_content': None, 'query': '%22OTT+KI+SHAAN+ZEESHAN%22', 'tweet_volume': 20238}, {'name': 'Iran', 'url': 'http://twitter.com/search?q=Iran', 'promoted_content': None, 'query': 'Iran', 'tweet_volume': 119454}, {'name': 'Jinx', 'url': 'http://twitter.com/search?q=Jinx', 'promoted_content': None, 'query': 'Jinx', 'tweet_volume': None}, {'name': 'The US', 'url': 'http://twitter.com/search?q=%22The+US%22', 'promoted_content': None, 'query': '%22The+US%22', 'tweet_volume': 770526}, {'name': 'NATO', 'url': 'http://twitter.com/search?q=NATO', 'promoted_content': None, 'query': 'NATO', 'tweet_volume': 66738}, {'name': 'Randa', 'url': 'http://twitter.com/search?q=Randa', 'promoted_content': None, 'query': 'Randa', 'tweet_volume': None}], 'as_of': '2021-08-15T16:33:53Z', 'created_at': '2021-08-12T07:01:27Z', 'locations': [{'name': 'Delhi', 'woeid': 20070458}]}\n"
     ]
    }
   ],
   "source": [
    "trends = api.trends_place(id = woeid,exclude = \"hashtags\")\n",
    "for value in trends:\n",
    "    print(value)"
   ]
  },
  {
   "cell_type": "code",
   "execution_count": 43,
   "metadata": {},
   "outputs": [],
   "source": [
    "for value in trends:\n",
    "    RDD = spark.sparkContext.parallelize(value.get('trends'))\n",
    "trend_without_hashtag=RDD.toDF(sampleRatio=0.01)"
   ]
  },
  {
   "cell_type": "code",
   "execution_count": 44,
   "metadata": {},
   "outputs": [
    {
     "name": "stdout",
     "output_type": "stream",
     "text": [
      "+--------------------+------------+\n",
      "|                name|tweet_volume|\n",
      "+--------------------+------------+\n",
      "|         Afghanistan|     1461440|\n",
      "|Sant Rampal Ji Ma...|      388612|\n",
      "|              Pujara|       19609|\n",
      "|9YEARS OF ETT HYS...|       44491|\n",
      "|       JEON JUNGKOOK|       60662|\n",
      "|Bharat Ki Shaan S...|       24094|\n",
      "|D-1 TO FIGHTorESCAPE|      142236|\n",
      "|              Sharia|       21782|\n",
      "|             America|      443214|\n",
      "|               Biden|      973097|\n",
      "|          Tajikistan|       20143|\n",
      "|               Mendy|       17170|\n",
      "|INSTAGRAM KING TA...|       60530|\n",
      "|              Israel|      102578|\n",
      "|BIRDIES LOVE YOU ...|        null|\n",
      "|             Islamic|       66483|\n",
      "|            Sterling|       19222|\n",
      "|     राष्ट्रपति अशरफ|        null|\n",
      "|                Pant|        null|\n",
      "|               Jinks|        null|\n",
      "|              London|      115599|\n",
      "|               Kohli|       36054|\n",
      "|          शहनाज़ गिल|       44758|\n",
      "|              Russia|       79089|\n",
      "|        Ek Tha Tiger|        null|\n",
      "|1 YEAR OF APNI MAATI|        null|\n",
      "|     Drug Free India|       10020|\n",
      "|   ARMY ALERT OnTFMA|      142866|\n",
      "|         Gerd Muller|       46782|\n",
      "|           Air India|        null|\n",
      "|             Shamita|        null|\n",
      "|              Mahrez|       15175|\n",
      "|       Sant Garibdas|        null|\n",
      "|OTT KI SHAAN ZEESHAN|       20238|\n",
      "|                Iran|      119454|\n",
      "|                Jinx|        null|\n",
      "|              The US|      770526|\n",
      "|                NATO|       66738|\n",
      "|               Randa|        null|\n",
      "+--------------------+------------+\n",
      "\n"
     ]
    }
   ],
   "source": [
    "trend_without_hashtag.createOrReplaceTempView(\"trend\")\n",
    "td=spark.sql(\"select name, tweet_volume from trend\")\n",
    "td.show(50)"
   ]
  },
  {
   "cell_type": "code",
   "execution_count": null,
   "metadata": {},
   "outputs": [],
   "source": []
  }
 ],
 "metadata": {
  "kernelspec": {
   "display_name": "Python 3",
   "language": "python",
   "name": "python3"
  },
  "language_info": {
   "codemirror_mode": {
    "name": "ipython",
    "version": 3
   },
   "file_extension": ".py",
   "mimetype": "text/x-python",
   "name": "python",
   "nbconvert_exporter": "python",
   "pygments_lexer": "ipython3",
   "version": "3.8.8"
  }
 },
 "nbformat": 4,
 "nbformat_minor": 2
}
